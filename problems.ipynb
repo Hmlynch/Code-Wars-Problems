{
 "cells": [
  {
   "cell_type": "markdown",
   "metadata": {},
   "source": [
    "## HOW TO TEST FOR SQUARE ROOT OF AN ELEMENT"
   ]
  },
  {
   "cell_type": "code",
   "execution_count": 28,
   "metadata": {},
   "outputs": [
    {
     "data": {
      "text/plain": [
       "False"
      ]
     },
     "execution_count": 28,
     "metadata": {},
     "output_type": "execute_result"
    }
   ],
   "source": [
    "def is_square(n):\n",
    "    if n < 0:\n",
    "        return False\n",
    "    elif n**.5 % 1 == 0:\n",
    "        return True\n",
    "    else:\n",
    "        return False\n",
    "\n",
    "is_square(-1)"
   ]
  },
  {
   "cell_type": "code",
   "execution_count": 29,
   "metadata": {},
   "outputs": [
    {
     "data": {
      "text/plain": [
       "False"
      ]
     },
     "execution_count": 29,
     "metadata": {},
     "output_type": "execute_result"
    }
   ],
   "source": [
    "def is_square(n):    \n",
    "    return n >= 0 and (n**0.5) % 1 == 0\n",
    "\n",
    "is_square(3)"
   ]
  },
  {
   "cell_type": "markdown",
   "metadata": {},
   "source": [
    "#### REVERSING STRING IF OVER 5 LETTERS"
   ]
  },
  {
   "cell_type": "code",
   "execution_count": 30,
   "metadata": {},
   "outputs": [
    {
     "data": {
      "text/plain": [
       "'Hey wollef sroirraw'"
      ]
     },
     "execution_count": 30,
     "metadata": {},
     "output_type": "execute_result"
    }
   ],
   "source": [
    "# iterate over words in string\n",
    "# use split method to break up string from whitespaces/words\n",
    "# iterate over word if number of words is over 5\n",
    "# to reverse a string, use extended slicing ([::-1])\n",
    "# if word is less than 5, append the original word\n",
    "# join the words together to make new sentence\n",
    "\n",
    "def spin_words(sentence):\n",
    "    new_sentence = []\n",
    "    for words in sentence.split():\n",
    "        if len(words) >= 5:\n",
    "            new_sentence.append(words[::-1])\n",
    "        else:\n",
    "            new_sentence.append(words)\n",
    "    return ' '.join(new_sentence)\n",
    "\n",
    "spin_words(\"Hey fellow warriors\")"
   ]
  },
  {
   "cell_type": "markdown",
   "metadata": {},
   "source": [
    "### DECENDING ORDER"
   ]
  },
  {
   "cell_type": "code",
   "execution_count": 31,
   "metadata": {},
   "outputs": [
    {
     "data": {
      "text/plain": [
       "987654321"
      ]
     },
     "execution_count": 31,
     "metadata": {},
     "output_type": "execute_result"
    }
   ],
   "source": [
    "# you will use the sorted function\n",
    "# followed by that for every digit(x) in the string of num, these numbers will be reversed.\n",
    "# then you will convert the string of num into an integer and join the list together to make one num\n",
    "# return that num\n",
    "\n",
    "def descending_order(num):\n",
    "    num = sorted([x for x in str(num)], reverse=True)\n",
    "    num = int(\"\".join(num))\n",
    "    return num\n",
    "\n",
    "descending_order(123456789)"
   ]
  },
  {
   "cell_type": "markdown",
   "metadata": {},
   "source": [
    "#### REPEAT THE STRING A 'NUMBER' OF TIMES"
   ]
  },
  {
   "cell_type": "code",
   "execution_count": 32,
   "metadata": {},
   "outputs": [
    {
     "data": {
      "text/plain": [
       "'abcabc'"
      ]
     },
     "execution_count": 32,
     "metadata": {},
     "output_type": "execute_result"
    }
   ],
   "source": [
    "# join a function where the string is multiplied by the range\n",
    "# this will add another string as many times as the range requires\n",
    "# return the new string\n",
    "\n",
    "def repeat_str(repeat, string):\n",
    "    return (''.join([string for n in range(repeat)]))\n",
    "\n",
    "repeat_str(2, 'abc')"
   ]
  },
  {
   "cell_type": "markdown",
   "metadata": {},
   "source": [
    "#### Remove First and Last Character"
   ]
  },
  {
   "cell_type": "code",
   "execution_count": 33,
   "metadata": {},
   "outputs": [
    {
     "data": {
      "text/plain": [
       "'lequen'"
      ]
     },
     "execution_count": 33,
     "metadata": {},
     "output_type": "execute_result"
    }
   ],
   "source": [
    "def remove_char(s):\n",
    "    s = s[1:]\n",
    "    s = s[:-1]\n",
    "    return s\n",
    "\n",
    "\n",
    "remove_char('elequent')"
   ]
  },
  {
   "cell_type": "markdown",
   "metadata": {},
   "source": [
    "### BIT COUNTING"
   ]
  },
  {
   "cell_type": "code",
   "execution_count": 34,
   "metadata": {},
   "outputs": [
    {
     "data": {
      "text/plain": [
       "2"
      ]
     },
     "execution_count": 34,
     "metadata": {},
     "output_type": "execute_result"
    }
   ],
   "source": [
    "# create a count equal to 0\n",
    "# make a while loop that will run as long as a variable is greater than 0\n",
    "# if the variable is divisble by 2, add to the count\n",
    "# if the variable is divisible by 2, reduce the variable by 2 \n",
    "# then return the count\n",
    "\n",
    "def count_bits(n):\n",
    "    count = 0 # initial count will be 0\n",
    "    while n > 0:\n",
    "        if n % 2: # checks the bit 1 or 0\n",
    "            count += 1\n",
    "        n //= 2 # reduce n by 2\n",
    "    return count\n",
    "\n",
    "count_bits(9)"
   ]
  },
  {
   "cell_type": "code",
   "execution_count": 35,
   "metadata": {},
   "outputs": [
    {
     "data": {
      "text/plain": [
       "2"
      ]
     },
     "execution_count": 35,
     "metadata": {},
     "output_type": "execute_result"
    }
   ],
   "source": [
    "# bin function returns the binary version of a specified integer.\n",
    "\n",
    "def count_bits(n):\n",
    "    return bin(n).count(\"1\")\n",
    "\n",
    "count_bits(9)"
   ]
  },
  {
   "cell_type": "markdown",
   "metadata": {},
   "source": [
    "#### Exes & Ohs"
   ]
  },
  {
   "cell_type": "code",
   "execution_count": 36,
   "metadata": {},
   "outputs": [
    {
     "data": {
      "text/plain": [
       "False"
      ]
     },
     "execution_count": 36,
     "metadata": {},
     "output_type": "execute_result"
    }
   ],
   "source": [
    "def xo(s):\n",
    "    s = s.lower()\n",
    "    if s.count('x') == s.count('o'):\n",
    "        return True\n",
    "    else:\n",
    "        return False\n",
    "    \n",
    "\n",
    "xo('Xxooo')"
   ]
  },
  {
   "cell_type": "markdown",
   "metadata": {},
   "source": [
    "### Isograms"
   ]
  },
  {
   "cell_type": "code",
   "execution_count": 37,
   "metadata": {},
   "outputs": [
    {
     "name": "stdout",
     "output_type": "stream",
     "text": [
      "{'i': 1, 's': 1, 'o': 1, 'g': 1, 'r': 1, 'a': 1, 'm': 1}\n"
     ]
    },
    {
     "data": {
      "text/plain": [
       "True"
      ]
     },
     "execution_count": 37,
     "metadata": {},
     "output_type": "execute_result"
    }
   ],
   "source": [
    "def is_isogram(string):\n",
    "    d = {}\n",
    "    string = string.lower()\n",
    "    \n",
    "    for key in string:\n",
    "        if key in d:\n",
    "            d[key] += 1 # d[i] = d[i] + 1\n",
    "            return False\n",
    "        else:\n",
    "            d[key] = 1\n",
    "    print(d)\n",
    "    return True\n",
    "\n",
    "is_isogram('isogram')"
   ]
  },
  {
   "cell_type": "markdown",
   "metadata": {},
   "source": [
    "### Jaden Casing Strings"
   ]
  },
  {
   "cell_type": "code",
   "execution_count": 38,
   "metadata": {},
   "outputs": [
    {
     "data": {
      "text/plain": [
       "\"How Can Mirrors Be Real If Our Eyes Aren't Real\""
      ]
     },
     "execution_count": 38,
     "metadata": {},
     "output_type": "execute_result"
    }
   ],
   "source": [
    "def to_jaden_case(string):\n",
    "    new_string = []\n",
    "    for letter in string.split(' '):\n",
    "        new_string.append(letter.capitalize())\n",
    "    return ' '.join(new_string)\n",
    "\n",
    "\n",
    "to_jaden_case(\"How can mirrors be real if our eyes aren't real\")"
   ]
  },
  {
   "cell_type": "markdown",
   "metadata": {},
   "source": [
    "### Shortest Word"
   ]
  },
  {
   "cell_type": "code",
   "execution_count": 39,
   "metadata": {},
   "outputs": [
    {
     "data": {
      "text/plain": [
       "3"
      ]
     },
     "execution_count": 39,
     "metadata": {},
     "output_type": "execute_result"
    }
   ],
   "source": [
    "def find_short(s):\n",
    "    minimum = float(\"inf\")\n",
    "    for x in s.split():\n",
    "        if len(x) < minimum:\n",
    "            minimum = len(x)\n",
    "    return minimum\n",
    "    \n",
    "find_short(\"bitcoin take over the world maybe who knows perhaps\")"
   ]
  },
  {
   "cell_type": "code",
   "execution_count": 40,
   "metadata": {},
   "outputs": [
    {
     "data": {
      "text/plain": [
       "3"
      ]
     },
     "execution_count": 40,
     "metadata": {},
     "output_type": "execute_result"
    }
   ],
   "source": [
    "def find_short(s):\n",
    "    return min(len(x) for x in s.split())\n",
    "\n",
    "find_short(\"bitcoin take over the world maybe who knows perhaps\")"
   ]
  },
  {
   "cell_type": "markdown",
   "metadata": {},
   "source": [
    "### Mubling"
   ]
  },
  {
   "cell_type": "code",
   "execution_count": 41,
   "metadata": {},
   "outputs": [
    {
     "data": {
      "text/plain": [
       "'A-Cc-Ccc-Uuuu-Mmmmm'"
      ]
     },
     "execution_count": 41,
     "metadata": {},
     "output_type": "execute_result"
    }
   ],
   "source": [
    "def accum(s):\n",
    "    result = []\n",
    "    for i, char in enumerate(s, 1):\n",
    "        result.append((char * i).title())\n",
    "    return '-'.join(result)\n",
    "\n",
    "accum(\"accum\")"
   ]
  },
  {
   "cell_type": "markdown",
   "metadata": {},
   "source": [
    "### Counting Duplicates"
   ]
  },
  {
   "cell_type": "code",
   "execution_count": 42,
   "metadata": {},
   "outputs": [
    {
     "data": {
      "text/plain": [
       "4"
      ]
     },
     "execution_count": 42,
     "metadata": {},
     "output_type": "execute_result"
    }
   ],
   "source": [
    "def duplicate_count(text):\n",
    "    counter = {}\n",
    "    for key in text.lower():\n",
    "        counter[key] = counter.get(key,0) + 1\n",
    "\n",
    "    total = 0\n",
    "    for key in counter:\n",
    "        if counter[key] > 1:\n",
    "            total += 1\n",
    "    return total\n",
    "\n",
    "duplicate_count(\"abcdeaBcD\")"
   ]
  },
  {
   "cell_type": "code",
   "execution_count": 43,
   "metadata": {},
   "outputs": [],
   "source": [
    "def duplicate_count(text):\n",
    "    count = 0\n",
    "    for c in set(text.lower()):\n",
    "        if text.lower().count(c) > 1:\n",
    "            count += 1\n",
    "    return count"
   ]
  },
  {
   "cell_type": "markdown",
   "metadata": {},
   "source": [
    "### Find the Smallest Integer in the Array"
   ]
  },
  {
   "cell_type": "code",
   "execution_count": 44,
   "metadata": {},
   "outputs": [
    {
     "data": {
      "text/plain": [
       "-18446744073709551615"
      ]
     },
     "execution_count": 44,
     "metadata": {},
     "output_type": "execute_result"
    }
   ],
   "source": [
    "def find_smallest_int(arr):\n",
    "    return min(arr)\n",
    "\n",
    "find_smallest_int([0, 1-2**64, 2**64])"
   ]
  },
  {
   "cell_type": "markdown",
   "metadata": {},
   "source": [
    "### Complementary DNA"
   ]
  },
  {
   "cell_type": "code",
   "execution_count": 45,
   "metadata": {},
   "outputs": [
    {
     "data": {
      "text/plain": [
       "'TAACG'"
      ]
     },
     "execution_count": 45,
     "metadata": {},
     "output_type": "execute_result"
    }
   ],
   "source": [
    "def DNA_strand(string):\n",
    "    temp_list = []\n",
    "    dna_string = ''\n",
    "    for i in string:\n",
    "        if i == 'A':\n",
    "            temp_list.append('T')\n",
    "        if i == 'T':\n",
    "            temp_list.append('A')\n",
    "        if i == 'G':\n",
    "            temp_list.append('C')\n",
    "        if i == 'C':\n",
    "            temp_list.append('G')\n",
    "    for i in temp_list:\n",
    "        dna_string += i\n",
    "    return dna_string\n",
    "            \n",
    "DNA_strand(\"ATTGC\")"
   ]
  },
  {
   "cell_type": "code",
   "execution_count": 46,
   "metadata": {},
   "outputs": [
    {
     "data": {
      "text/plain": [
       "'CCTTAAGG'"
      ]
     },
     "execution_count": 46,
     "metadata": {},
     "output_type": "execute_result"
    }
   ],
   "source": [
    "def DNA_strand(dna):\n",
    "    reference = {\n",
    "        'A':'T',\n",
    "        'T':'A',\n",
    "        'G':'C',\n",
    "        'C':'G'\n",
    "    }\n",
    "    return \"\".join([reference[x]for x in dna])\n",
    "\n",
    "DNA_strand(\"GGAATTCC\")"
   ]
  },
  {
   "cell_type": "markdown",
   "metadata": {},
   "source": [
    "### Find The Parity Outlier"
   ]
  },
  {
   "cell_type": "code",
   "execution_count": 47,
   "metadata": {},
   "outputs": [
    {
     "data": {
      "text/plain": [
       "11"
      ]
     },
     "execution_count": 47,
     "metadata": {},
     "output_type": "execute_result"
    }
   ],
   "source": [
    "def find_outlier(num_list):\n",
    "    odd_list = []\n",
    "    even_list = []\n",
    "\n",
    "    for i in num_list:\n",
    "        if i % 2 == 0:\n",
    "            even_list.append(i)\n",
    "        elif i % 2 != 0:\n",
    "            odd_list.append(i)\n",
    "    if len(even_list) == 1:\n",
    "        return even_list[0]\n",
    "    elif len(odd_list) == 1:\n",
    "        return odd_list[0]\n",
    "\n",
    "find_outlier([2, 4, 0, 100, 4, 11, 2602, 36])"
   ]
  },
  {
   "cell_type": "code",
   "execution_count": 48,
   "metadata": {},
   "outputs": [
    {
     "data": {
      "text/plain": [
       "11"
      ]
     },
     "execution_count": 48,
     "metadata": {},
     "output_type": "execute_result"
    }
   ],
   "source": [
    "def find_outlier(int):\n",
    "    odds = [x for x in int if x%2!=0]\n",
    "    evens = [x for x in int if x%2==0]\n",
    "    \n",
    "    return odds[0] if len(odds)<len(evens) else evens[0]\n",
    "\n",
    "find_outlier([2, 4, 0, 100, 4, 11, 2602, 36])"
   ]
  },
  {
   "cell_type": "markdown",
   "metadata": {},
   "source": [
    "### Square(n) Sum"
   ]
  },
  {
   "cell_type": "code",
   "execution_count": 49,
   "metadata": {},
   "outputs": [
    {
     "data": {
      "text/plain": [
       "50"
      ]
     },
     "execution_count": 49,
     "metadata": {},
     "output_type": "execute_result"
    }
   ],
   "source": [
    "def square_sum(numbers):\n",
    "    new_numbers = []\n",
    "    for x in numbers:\n",
    "        new_numbers.append(x**2)\n",
    "    return sum(new_numbers)\n",
    "\n",
    "square_sum([0, 3, 4, 5])"
   ]
  },
  {
   "cell_type": "code",
   "execution_count": 50,
   "metadata": {},
   "outputs": [
    {
     "data": {
      "text/plain": [
       "50"
      ]
     },
     "execution_count": 50,
     "metadata": {},
     "output_type": "execute_result"
    }
   ],
   "source": [
    "def square_sum(numbers):\n",
    "    return sum([x**2 for x in numbers])\n",
    "\n",
    "square_sum([0, 3, 4, 5])"
   ]
  },
  {
   "cell_type": "markdown",
   "metadata": {},
   "source": [
    "### Duplicate Encoder"
   ]
  },
  {
   "cell_type": "code",
   "execution_count": 29,
   "metadata": {},
   "outputs": [
    {
     "name": "stdout",
     "output_type": "stream",
     "text": [
      "2\n",
      "1\n",
      "2\n",
      "2\n",
      "1\n",
      "2\n",
      "2\n"
     ]
    },
    {
     "data": {
      "text/plain": [
       "')())())'"
      ]
     },
     "execution_count": 29,
     "metadata": {},
     "output_type": "execute_result"
    }
   ],
   "source": [
    "def duplicate_encode(word):\n",
    "    repeat_list = []\n",
    "    new_string = ''\n",
    "    for char in word.lower():\n",
    "        letter_count = (word.count(char))\n",
    "        print(letter_count)\n",
    "        if letter_count > 1:\n",
    "            repeat_list.append(')')\n",
    "        else:\n",
    "            repeat_list.append('(')\n",
    "    return new_string.join(repeat_list)\n",
    "        \n",
    "\n",
    "\n",
    "duplicate_encode('Success')\n",
    "# Output: ')()))()))))()('\n"
   ]
  },
  {
   "cell_type": "code",
   "execution_count": 26,
   "metadata": {},
   "outputs": [
    {
     "data": {
      "text/plain": [
       "'))))))))))))))'"
      ]
     },
     "execution_count": 26,
     "metadata": {},
     "output_type": "execute_result"
    }
   ],
   "source": [
    "def duplicate_encode(word):\n",
    "    word = word.lower()\n",
    "    st = ''\n",
    "    dict = {}\n",
    "    for i in word:\n",
    "        dict[i] = dict.get(i,0) + 1\n",
    "    for i in word:\n",
    "        if dict[i] > 1:\n",
    "            st += \")\"\n",
    "        else:\n",
    "            st += \"(\"\n",
    "    return st\n",
    "\n",
    "duplicate_encode('(()))())())()(')"
   ]
  },
  {
   "cell_type": "markdown",
   "metadata": {},
   "source": [
    "### Remove String Spaces"
   ]
  },
  {
   "cell_type": "code",
   "execution_count": 9,
   "metadata": {},
   "outputs": [
    {
     "data": {
      "text/plain": [
       "'8j8mBliB8gimjB8B8jlB'"
      ]
     },
     "execution_count": 9,
     "metadata": {},
     "output_type": "execute_result"
    }
   ],
   "source": [
    "def no_space(x):\n",
    "    return ''.join(x.split())\n",
    "\n",
    "no_space('8 j 8   mBliB8g  imjB8B8  jl  B')"
   ]
  },
  {
   "cell_type": "code",
   "execution_count": 10,
   "metadata": {},
   "outputs": [
    {
     "data": {
      "text/plain": [
       "'8j8mBliB8gimjB8B8jlB'"
      ]
     },
     "execution_count": 10,
     "metadata": {},
     "output_type": "execute_result"
    }
   ],
   "source": [
    "def no_space(x):\n",
    "    return x.replace(' ', '')\n",
    "\n",
    "no_space('8 j 8   mBliB8g  imjB8B8  jl  B')"
   ]
  },
  {
   "cell_type": "markdown",
   "metadata": {},
   "source": [
    "### Grasshopper - Summation"
   ]
  },
  {
   "cell_type": "code",
   "execution_count": 14,
   "metadata": {},
   "outputs": [
    {
     "data": {
      "text/plain": [
       "36"
      ]
     },
     "execution_count": 14,
     "metadata": {},
     "output_type": "execute_result"
    }
   ],
   "source": [
    "def summation(num):\n",
    "    return sum(range(1, num+1))\n",
    "\n",
    "summation(8)"
   ]
  },
  {
   "cell_type": "markdown",
   "metadata": {},
   "source": [
    "### Sum of Two Lowest Positive Integers"
   ]
  },
  {
   "cell_type": "code",
   "execution_count": 16,
   "metadata": {},
   "outputs": [
    {
     "data": {
      "text/plain": [
       "19"
      ]
     },
     "execution_count": 16,
     "metadata": {},
     "output_type": "execute_result"
    }
   ],
   "source": [
    "def sum_two_smallest_numbers(nums):\n",
    "    sorted_nums = sorted(nums)\n",
    "    return sorted_nums[0] + sorted_nums[1]\n",
    "\n",
    "sum_two_smallest_numbers([7, 15, 12, 18, 22])"
   ]
  },
  {
   "cell_type": "code",
   "execution_count": 17,
   "metadata": {},
   "outputs": [
    {
     "data": {
      "text/plain": [
       "19"
      ]
     },
     "execution_count": 17,
     "metadata": {},
     "output_type": "execute_result"
    }
   ],
   "source": [
    "def sum_two_smallest_numbers(nums):\n",
    "    return sum(sorted(nums)[:2])\n",
    "\n",
    "sum_two_smallest_numbers([7, 15, 12, 18, 22])"
   ]
  },
  {
   "cell_type": "markdown",
   "metadata": {},
   "source": [
    "### Counting Sheep..."
   ]
  },
  {
   "cell_type": "code",
   "execution_count": 34,
   "metadata": {},
   "outputs": [
    {
     "data": {
      "text/plain": [
       "19"
      ]
     },
     "execution_count": 34,
     "metadata": {},
     "output_type": "execute_result"
    }
   ],
   "source": [
    "array1 = [None, False, True, True, None, False, False, None, False, False, False, False, True, None, None, True, False, False, True, None, True, True, True, None, True, False, False, None, None, None, True, True, None, None, False, True, False, None, None, True, True, False, True, None, False, False, True, None, True, False, None, False, False, False, False, True, False, False, False, False, False, True]\n",
    "\n",
    "def count_sheeps(sheeps):\n",
    "    count = 0\n",
    "    for sheep in sheeps:\n",
    "        if sheep == True:\n",
    "            count += 1\n",
    "    return count\n",
    "\n",
    "\n",
    "count_sheeps(array1)"
   ]
  },
  {
   "cell_type": "code",
   "execution_count": 35,
   "metadata": {},
   "outputs": [
    {
     "data": {
      "text/plain": [
       "19"
      ]
     },
     "execution_count": 35,
     "metadata": {},
     "output_type": "execute_result"
    }
   ],
   "source": [
    "array1 = [None, False, True, True, None, False, False, None, False, False, False, False, True, None, None, True, False, False, True, None, True, True, True, None, True, False, False, None, None, None, True, True, None, None, False, True, False, None, None, True, True, False, True, None, False, False, True, None, True, False, None, False, False, False, False, True, False, False, False, False, False, True]\n",
    "\n",
    "def count_sheeps(sheeps):\n",
    "    return sheeps.count(True)\n",
    "\n",
    "count_sheeps(array1)"
   ]
  },
  {
   "cell_type": "markdown",
   "metadata": {},
   "source": [
    "### Beginner Series #3 Sum of Numbers"
   ]
  },
  {
   "cell_type": "code",
   "execution_count": 49,
   "metadata": {},
   "outputs": [
    {
     "data": {
      "text/plain": [
       "6434925"
      ]
     },
     "execution_count": 49,
     "metadata": {},
     "output_type": "execute_result"
    }
   ],
   "source": [
    "def get_sum(a,b):\n",
    "    if a == b:\n",
    "        return a\n",
    "    total = 0\n",
    "    for num in range(min(a,b), max(a,b)+1):\n",
    "        total += num\n",
    "    return total\n",
    "    \n",
    "get_sum(3650,-675)"
   ]
  },
  {
   "cell_type": "code",
   "execution_count": 50,
   "metadata": {},
   "outputs": [
    {
     "data": {
      "text/plain": [
       "6434925"
      ]
     },
     "execution_count": 50,
     "metadata": {},
     "output_type": "execute_result"
    }
   ],
   "source": [
    "def get_sum(a,b):\n",
    "    return sum(range(min(a,b), max(a,b)+1))\n",
    "    \n",
    "get_sum(3650,-675)"
   ]
  },
  {
   "attachments": {},
   "cell_type": "markdown",
   "metadata": {},
   "source": [
    "### Function 1 - hello world"
   ]
  },
  {
   "cell_type": "code",
   "execution_count": 1,
   "metadata": {},
   "outputs": [],
   "source": [
    "def greet():\n",
    "    return 'hello world!'"
   ]
  },
  {
   "attachments": {},
   "cell_type": "markdown",
   "metadata": {},
   "source": [
    "### Convert a String to a Number"
   ]
  },
  {
   "cell_type": "code",
   "execution_count": 2,
   "metadata": {},
   "outputs": [
    {
     "data": {
      "text/plain": [
       "1405"
      ]
     },
     "execution_count": 2,
     "metadata": {},
     "output_type": "execute_result"
    }
   ],
   "source": [
    "def string_to_number(s):\n",
    "    integer = int(s)\n",
    "    return integer\n",
    "\n",
    "string_to_number(\"1405\")"
   ]
  },
  {
   "attachments": {},
   "cell_type": "markdown",
   "metadata": {},
   "source": [
    "### Replace With Alphabet Position"
   ]
  },
  {
   "cell_type": "code",
   "execution_count": 25,
   "metadata": {},
   "outputs": [
    {
     "data": {
      "text/plain": [
       "'20 8 5 19 21 14 19 5 20 19 5 20 19 1 20 20 23 5 12 22 5 15 3 12 15 3 11'"
      ]
     },
     "execution_count": 25,
     "metadata": {},
     "output_type": "execute_result"
    }
   ],
   "source": [
    "def alphabet_position(text):\n",
    "    ind_letters = []\n",
    "    text = text.lower()\n",
    "    for x in text:\n",
    "        if x.isalpha():\n",
    "            ind_letters.append(str(ord(x)-96))\n",
    "    return \" \".join(ind_letters)\n",
    "\n",
    "alphabet_position(\"The sunset sets at twelve o' clock.\")"
   ]
  },
  {
   "cell_type": "code",
   "execution_count": 26,
   "metadata": {},
   "outputs": [
    {
     "data": {
      "text/plain": [
       "'20 8 5 19 21 14 19 5 20 19 5 20 19 1 20 20 23 5 12 22 5 15 3 12 15 3 11'"
      ]
     },
     "execution_count": 26,
     "metadata": {},
     "output_type": "execute_result"
    }
   ],
   "source": [
    "def alphabet_position(text):\n",
    "    return ' '.join(str(ord(c) - 96) for c in text.lower() if c.isalpha())\n",
    "\n",
    "alphabet_position(\"The sunset sets at twelve o' clock.\")"
   ]
  },
  {
   "attachments": {},
   "cell_type": "markdown",
   "metadata": {},
   "source": [
    "### Persistent Bugger."
   ]
  },
  {
   "cell_type": "code",
   "execution_count": 35,
   "metadata": {},
   "outputs": [
    {
     "data": {
      "text/plain": [
       "4"
      ]
     },
     "execution_count": 35,
     "metadata": {},
     "output_type": "execute_result"
    }
   ],
   "source": [
    "def persistence(n):\n",
    "    counter = 0                      #Every time this function goes through  loop, add 1 to counter\n",
    "    while n > 9:                     #loop activates if n is greater than 9\n",
    "        counter += 1\n",
    "        n_str = str(n)               #We have to turn the number into a string to find i(indexes) and split them\n",
    "        total = 1                    #total acts as the repeating factor that moves up/down the loop until one element remains\n",
    "        for i in n_str:\n",
    "            total = total * int(i)   #i is multiplied by every i in the number\n",
    "        n = total                    # the total will now equal the new n of the function\n",
    "    return counter                   #this will repeat until there is only one element remaining and return the counter\n",
    "\n",
    "persistence(999)"
   ]
  },
  {
   "attachments": {},
   "cell_type": "markdown",
   "metadata": {},
   "source": [
    "### Take a Ten Minutes Walk"
   ]
  },
  {
   "cell_type": "code",
   "execution_count": 37,
   "metadata": {},
   "outputs": [
    {
     "data": {
      "text/plain": [
       "False"
      ]
     },
     "execution_count": 37,
     "metadata": {},
     "output_type": "execute_result"
    }
   ],
   "source": [
    "def is_valid_walk(walk):\n",
    "    if len(walk) != 10:\n",
    "        return False\n",
    "    else:\n",
    "        if walk.count('n') == walk.count('s') and walk.count('e') == walk.count('w'):\n",
    "            return True\n",
    "        else:\n",
    "            return False\n",
    "\n",
    "is_valid_walk(['n','s','n','s','n','s','n','s','n','s','e'])"
   ]
  },
  {
   "cell_type": "code",
   "execution_count": 39,
   "metadata": {},
   "outputs": [
    {
     "data": {
      "text/plain": [
       "True"
      ]
     },
     "execution_count": 39,
     "metadata": {},
     "output_type": "execute_result"
    }
   ],
   "source": [
    "def is_valid_walk(walk):\n",
    "    if (walk.count('n') == walk.count('s') and\n",
    "    walk.count('e') == walk.count('w') and \n",
    "    len(walk) == 10):\n",
    "        return True \n",
    "    return False\n",
    "\n",
    "is_valid_walk(['n','s','n','s','n','s','n','s','n','s'])"
   ]
  },
  {
   "attachments": {},
   "cell_type": "markdown",
   "metadata": {},
   "source": [
    "### Credit Card Mask"
   ]
  },
  {
   "cell_type": "code",
   "execution_count": 46,
   "metadata": {},
   "outputs": [
    {
     "data": {
      "text/plain": [
       "'########d2eA'"
      ]
     },
     "execution_count": 46,
     "metadata": {},
     "output_type": "execute_result"
    }
   ],
   "source": [
    "def maskify(cc):\n",
    "    if len(cc) > 4:\n",
    "        return \"#\" * (len(cc)-4) + cc[-4:]\n",
    "    return cc\n",
    "\n",
    "maskify('SF$SDfgsd2eA')"
   ]
  },
  {
   "cell_type": "code",
   "execution_count": 47,
   "metadata": {},
   "outputs": [
    {
     "data": {
      "text/plain": [
       "'########d2eA'"
      ]
     },
     "execution_count": 47,
     "metadata": {},
     "output_type": "execute_result"
    }
   ],
   "source": [
    "def maskify(cc):\n",
    "    return len(cc[:-4])*\"#\" + cc[-4:]\n",
    "\n",
    "maskify('SF$SDfgsd2eA')"
   ]
  },
  {
   "attachments": {},
   "cell_type": "markdown",
   "metadata": {},
   "source": [
    "### Unique In Order"
   ]
  },
  {
   "cell_type": "code",
   "execution_count": 50,
   "metadata": {},
   "outputs": [
    {
     "data": {
      "text/plain": [
       "['A', 'B', 'C', 'D', 'A', 'B']"
      ]
     },
     "execution_count": 50,
     "metadata": {},
     "output_type": "execute_result"
    }
   ],
   "source": [
    "def unique_in_order(iterable):\n",
    "    unique_list = [] #empty list to store unique elements\n",
    "    prev = None #this variabe needs to start at none, so that a character can be added and the program knows what came before current element\n",
    "    for char in iterable:\n",
    "        if char != prev: # Example A != A => would not be appended. A!=B => would be appended\n",
    "            unique_list.append(char)\n",
    "        prev = char #this will make prev equal the last letter that went through the for loop.\n",
    "    return unique_list\n",
    "\n",
    "unique_in_order('AAAABBBCCDAABBB')"
   ]
  },
  {
   "attachments": {},
   "cell_type": "markdown",
   "metadata": {},
   "source": [
    "### Convert String to Camel Case"
   ]
  },
  {
   "cell_type": "code",
   "execution_count": 72,
   "metadata": {},
   "outputs": [
    {
     "data": {
      "text/plain": [
       "'theStealthWarrior'"
      ]
     },
     "execution_count": 72,
     "metadata": {},
     "output_type": "execute_result"
    }
   ],
   "source": [
    "def to_camel_case(text):\n",
    "    special = text.replace(\"-\",\" \").replace(\"_\",\" \") #keeps as string but replaces the - & _ with spaces\n",
    "    special = special.split() #split puts elements in array\n",
    "    if len(text) == 0: #checks if there is any text at all\n",
    "        return text \n",
    "    else: #returns a new string, if first word of string is lowercase, stay and join it to the new string that will title the other words in string and merge at the spaces.\n",
    "        return special[0] + \" \".join(special[1:]).title().replace(\" \",\"\")\n",
    "\n",
    "to_camel_case('the_stealth_warrior')\n",
    "# to_camel_case('The-Stealth-Warrior')"
   ]
  },
  {
   "attachments": {},
   "cell_type": "markdown",
   "metadata": {},
   "source": [
    "### Friend or Foe?"
   ]
  },
  {
   "cell_type": "code",
   "execution_count": 75,
   "metadata": {},
   "outputs": [
    {
     "data": {
      "text/plain": [
       "['Jimm', 'Cari', 'aret']"
      ]
     },
     "execution_count": 75,
     "metadata": {},
     "output_type": "execute_result"
    }
   ],
   "source": [
    "def friend(array):\n",
    "    good_friends = []\n",
    "    for friend in array:\n",
    "        if len(friend) == 4:\n",
    "            good_friends.append(friend)\n",
    "    return good_friends\n",
    "\n",
    "friend([\"Jimm\", \"Cari\", \"aret\", \"truehdnviegkwgvke\", \"sixtyiscooooool\"])"
   ]
  },
  {
   "attachments": {},
   "cell_type": "markdown",
   "metadata": {},
   "source": [
    "### Keep Hydrated"
   ]
  },
  {
   "cell_type": "code",
   "execution_count": 81,
   "metadata": {},
   "outputs": [
    {
     "data": {
      "text/plain": [
       "1"
      ]
     },
     "execution_count": 81,
     "metadata": {},
     "output_type": "execute_result"
    }
   ],
   "source": [
    "def litres(time):\n",
    "    l = time*0.5\n",
    "    return int(l // 1)\n",
    "\n",
    "litres(2)"
   ]
  },
  {
   "cell_type": "code",
   "execution_count": 82,
   "metadata": {},
   "outputs": [
    {
     "data": {
      "text/plain": [
       "1"
      ]
     },
     "execution_count": 82,
     "metadata": {},
     "output_type": "execute_result"
    }
   ],
   "source": [
    "def litres(time):\n",
    "    return time // 2\n",
    "\n",
    "litres(2)"
   ]
  },
  {
   "attachments": {},
   "cell_type": "markdown",
   "metadata": {},
   "source": [
    "### String Ends With?"
   ]
  },
  {
   "cell_type": "code",
   "execution_count": 6,
   "metadata": {},
   "outputs": [
    {
     "data": {
      "text/plain": [
       "False"
      ]
     },
     "execution_count": 6,
     "metadata": {},
     "output_type": "execute_result"
    }
   ],
   "source": [
    "def solution(string,ending):\n",
    "    if string.endswith(ending): #.endswith is a function that checks the back of a string in hopes to find the ending is it is in the string.\n",
    "        return True\n",
    "    else:\n",
    "        return False\n",
    "\n",
    "solution('abcde','cdce')"
   ]
  },
  {
   "cell_type": "code",
   "execution_count": 12,
   "metadata": {},
   "outputs": [
    {
     "name": "stdout",
     "output_type": "stream",
     "text": [
      "True\n"
     ]
    },
    {
     "data": {
      "text/plain": [
       "True"
      ]
     },
     "execution_count": 12,
     "metadata": {},
     "output_type": "execute_result"
    }
   ],
   "source": [
    "def solution(string,ending):\n",
    "    return ending in string[-len(ending):]\n",
    "\n",
    "solution('abcde','cde')"
   ]
  },
  {
   "attachments": {},
   "cell_type": "markdown",
   "metadata": {},
   "source": [
    "### Is this a Triangle"
   ]
  },
  {
   "cell_type": "code",
   "execution_count": 14,
   "metadata": {},
   "outputs": [
    {
     "data": {
      "text/plain": [
       "False"
      ]
     },
     "execution_count": 14,
     "metadata": {},
     "output_type": "execute_result"
    }
   ],
   "source": [
    "def is_triangle(a,b,c):\n",
    "    if a+b > c and a+c > b and b+c > a:\n",
    "        return True\n",
    "    return False\n",
    "\n",
    "is_triangle(7, 2, 2)"
   ]
  },
  {
   "cell_type": "code",
   "execution_count": 15,
   "metadata": {},
   "outputs": [
    {
     "data": {
      "text/plain": [
       "False"
      ]
     },
     "execution_count": 15,
     "metadata": {},
     "output_type": "execute_result"
    }
   ],
   "source": [
    "def is_triangle(a,b,c):\n",
    "    return (a+b>c) and (a+c>b) and b+c>a\n",
    "\n",
    "is_triangle(7, 2, 2)"
   ]
  },
  {
   "attachments": {},
   "cell_type": "markdown",
   "metadata": {},
   "source": [
    "### Return Strings"
   ]
  },
  {
   "cell_type": "code",
   "execution_count": 16,
   "metadata": {},
   "outputs": [
    {
     "data": {
      "text/plain": [
       "'Hello, Ryan how are you doing today?'"
      ]
     },
     "execution_count": 16,
     "metadata": {},
     "output_type": "execute_result"
    }
   ],
   "source": [
    "def greet(name):\n",
    "    return f'Hello, {name} how are you doing today?'\n",
    "\n",
    "greet(\"Ryan\")"
   ]
  },
  {
   "attachments": {},
   "cell_type": "markdown",
   "metadata": {},
   "source": [
    "### Growth of Population"
   ]
  },
  {
   "cell_type": "code",
   "execution_count": 34,
   "metadata": {},
   "outputs": [
    {
     "data": {
      "text/plain": [
       "15"
      ]
     },
     "execution_count": 34,
     "metadata": {},
     "output_type": "execute_result"
    }
   ],
   "source": [
    "def nb_year(p0, percent, aug, p, year = 0):\n",
    "    percent = percent / 100\n",
    "    while p0 < p:\n",
    "        year += 1\n",
    "        p0 = (p0 + int(p0*percent) + aug) #some errors will occur if decmimal places aren't removed from new p0 after percent calculation.\n",
    "    return year\n",
    "\n",
    "nb_year(1500, 5, 100, 5000)"
   ]
  },
  {
   "attachments": {},
   "cell_type": "markdown",
   "metadata": {},
   "source": [
    "### Century from Year!"
   ]
  },
  {
   "cell_type": "code",
   "execution_count": 57,
   "metadata": {},
   "outputs": [
    {
     "data": {
      "text/plain": [
       "19"
      ]
     },
     "execution_count": 57,
     "metadata": {},
     "output_type": "execute_result"
    }
   ],
   "source": [
    "def century(year):\n",
    "    c = int(year / 100) + 1\n",
    "    last_two = int(year % 100)\n",
    "    if last_two == 0:\n",
    "        return c - 1\n",
    "    return c\n",
    "century(1900)"
   ]
  },
  {
   "cell_type": "code",
   "execution_count": 60,
   "metadata": {},
   "outputs": [
    {
     "name": "stdout",
     "output_type": "stream",
     "text": [
      "1999\n"
     ]
    },
    {
     "data": {
      "text/plain": [
       "19"
      ]
     },
     "execution_count": 60,
     "metadata": {},
     "output_type": "execute_result"
    }
   ],
   "source": [
    "def century(year):\n",
    "    print(year + 99) \n",
    "    return (year + 99) // 100\n",
    "\n",
    "century(1900)"
   ]
  },
  {
   "attachments": {},
   "cell_type": "markdown",
   "metadata": {},
   "source": [
    "### Basic Mathematical Operations"
   ]
  },
  {
   "cell_type": "code",
   "execution_count": 65,
   "metadata": {},
   "outputs": [
    {
     "data": {
      "text/plain": [
       "11"
      ]
     },
     "execution_count": 65,
     "metadata": {},
     "output_type": "execute_result"
    }
   ],
   "source": [
    "def basic_op(operator, v1, v2):\n",
    "    if operator == '+':\n",
    "        return (v1 + v2)\n",
    "    elif operator == '-':\n",
    "        return (v1 - v2)\n",
    "    elif operator == '*':\n",
    "        return (v1 * v2)\n",
    "    elif operator == '/':\n",
    "        return (v1 / v2)\n",
    "\n",
    "basic_op('+', 4, 7)"
   ]
  },
  {
   "cell_type": "code",
   "execution_count": 66,
   "metadata": {},
   "outputs": [
    {
     "data": {
      "text/plain": [
       "11"
      ]
     },
     "execution_count": 66,
     "metadata": {},
     "output_type": "execute_result"
    }
   ],
   "source": [
    "def basic_op(operator, v1, v2):\n",
    "    return eval(str(v1) + operator + str(v2)) #eval function takes strings and evaluates them on a numeric scale\n",
    "\n",
    "basic_op('+', 4, 7)"
   ]
  },
  {
   "attachments": {},
   "cell_type": "markdown",
   "metadata": {},
   "source": [
    "### Your Order, Please."
   ]
  },
  {
   "cell_type": "code",
   "execution_count": 76,
   "metadata": {},
   "outputs": [
    {
     "data": {
      "text/plain": [
       "'Fo1r the2 g3ood 4of th5e pe6ople'"
      ]
     },
     "execution_count": 76,
     "metadata": {},
     "output_type": "execute_result"
    }
   ],
   "source": [
    "def order(sentence):\n",
    "    new_list = []\n",
    "    sentence = sentence.split()\n",
    "    for i in range(1, len(sentence) + 1): #for every index in sentence, look for \"1\" or the next number in sequence. If found, move on, if not move to return joined list\n",
    "        for j in sentence: #represents each word in the sequence\n",
    "            if str(i) in j: #if the number appears in a word.\n",
    "                new_list.append(j) #append that word to the list with the number included\n",
    "    return \" \".join(new_list) #This joins the list at the very end when no more numbers are found in the words.\n",
    "    \n",
    "\n",
    "order(\"4of Fo1r pe6ople g3ood th5e the2\")"
   ]
  },
  {
   "cell_type": "code",
   "execution_count": 77,
   "metadata": {},
   "outputs": [
    {
     "data": {
      "text/plain": [
       "'Fo1r the2 g3ood 4of th5e pe6ople'"
      ]
     },
     "execution_count": 77,
     "metadata": {},
     "output_type": "execute_result"
    }
   ],
   "source": [
    "def order(sentence):\n",
    "    new_list = []\n",
    "    for i in range(1,10):\n",
    "        for j in list(sentence.split()):\n",
    "            if str(i) in j:\n",
    "                new_list.append(j)\n",
    "    return \" \".join(new_list)\n",
    "\n",
    "order(\"4of Fo1r pe6ople g3ood th5e the2\")"
   ]
  },
  {
   "attachments": {},
   "cell_type": "markdown",
   "metadata": {},
   "source": [
    "### Binary Addition"
   ]
  },
  {
   "cell_type": "code",
   "execution_count": 1,
   "metadata": {},
   "outputs": [
    {
     "data": {
      "text/plain": [
       "'100'"
      ]
     },
     "execution_count": 1,
     "metadata": {},
     "output_type": "execute_result"
    }
   ],
   "source": [
    "def add_binary(a,b):\n",
    "    return str(\"{0:b}\".format(a+b))\n",
    "\n",
    "add_binary(2,2)"
   ]
  },
  {
   "cell_type": "code",
   "execution_count": 5,
   "metadata": {},
   "outputs": [
    {
     "data": {
      "text/plain": [
       "'100'"
      ]
     },
     "execution_count": 5,
     "metadata": {},
     "output_type": "execute_result"
    }
   ],
   "source": [
    "def add_binary(a,b):\n",
    "    return bin(a+b)[2:]\n",
    "\n",
    "add_binary(2,2)"
   ]
  },
  {
   "cell_type": "code",
   "execution_count": 6,
   "metadata": {},
   "outputs": [
    {
     "data": {
      "text/plain": [
       "'100'"
      ]
     },
     "execution_count": 6,
     "metadata": {},
     "output_type": "execute_result"
    }
   ],
   "source": [
    "def add_binary(a,b):\n",
    "    c = a + b\n",
    "    return bin(c).replace('0b','')\n",
    "\n",
    "add_binary(2,2)"
   ]
  },
  {
   "attachments": {},
   "cell_type": "markdown",
   "metadata": {},
   "source": [
    "### Two to One"
   ]
  },
  {
   "cell_type": "code",
   "execution_count": 19,
   "metadata": {},
   "outputs": [
    {
     "data": {
      "text/plain": [
       "'abcdefklmopqwxy'"
      ]
     },
     "execution_count": 19,
     "metadata": {},
     "output_type": "execute_result"
    }
   ],
   "source": [
    "def longest(a1, a2):\n",
    "    new_string = ''\n",
    "    a3 = sorted(set(a1+a2))\n",
    "    return new_string.join(a3)\n",
    "\n",
    "longest(\"xyaabbbccccdefww\",\"xxxxyyyyabklmopq\")"
   ]
  },
  {
   "cell_type": "code",
   "execution_count": 20,
   "metadata": {},
   "outputs": [
    {
     "data": {
      "text/plain": [
       "'abcdefklmopqwxy'"
      ]
     },
     "execution_count": 20,
     "metadata": {},
     "output_type": "execute_result"
    }
   ],
   "source": [
    "def longest(a1, a2):\n",
    "    return \"\".join(sorted(set(a1+a2)))\n",
    "\n",
    "longest(\"xyaabbbccccdefww\",\"xxxxyyyyabklmopq\")"
   ]
  },
  {
   "attachments": {},
   "cell_type": "markdown",
   "metadata": {},
   "source": [
    "### Regex validate PIN code"
   ]
  },
  {
   "cell_type": "code",
   "execution_count": 35,
   "metadata": {},
   "outputs": [
    {
     "data": {
      "text/plain": [
       "True"
      ]
     },
     "execution_count": 35,
     "metadata": {},
     "output_type": "execute_result"
    }
   ],
   "source": [
    "import re\n",
    "\n",
    "def validate_pin(pin):\n",
    "    return bool(re.fullmatch(\"\\d{4}|\\d{6}\", pin))\n",
    "# bool() function returns the boolean value of a specified object.\n",
    "# .fullmatch() returns a match object if and only if the entire string amtches the pattern. Otherwise return None.\n",
    "validate_pin(\"1234\")"
   ]
  },
  {
   "cell_type": "code",
   "execution_count": 33,
   "metadata": {},
   "outputs": [
    {
     "data": {
      "text/plain": [
       "True"
      ]
     },
     "execution_count": 33,
     "metadata": {},
     "output_type": "execute_result"
    }
   ],
   "source": [
    "# Without Regex\n",
    "def validate_pin(pin):\n",
    "    valid_nums = \"0123456789\"\n",
    "    valid_nums_list = list(valid_nums)\n",
    "    pin = list(pin)\n",
    "    if len(pin) != 4 and len(pin) !=6:\n",
    "        return False\n",
    "    else:\n",
    "        for digit in pin:\n",
    "            if digit not in valid_nums_list:\n",
    "                return False\n",
    "    return True\n",
    "\n",
    "validate_pin(\"1234\")"
   ]
  },
  {
   "attachments": {},
   "cell_type": "markdown",
   "metadata": {},
   "source": [
    "### Moving Zeros to the End"
   ]
  },
  {
   "cell_type": "code",
   "execution_count": 27,
   "metadata": {},
   "outputs": [
    {
     "name": "stdout",
     "output_type": "stream",
     "text": [
      "[1, 2, 1, 1, 3, 1, 0, 0, 0, 0]\n"
     ]
    }
   ],
   "source": [
    "def move_zeros(lst):\n",
    "    new_lst = [] # This will be the new list we append nums to\n",
    "    count = 0 # This counter keeps track of number of zeros\n",
    "    for i in lst:\n",
    "        if i == 0:\n",
    "            count += 1 # if the num is '0', add to the count\n",
    "            continue\n",
    "        new_lst.append(i) # else, append num to new list\n",
    "    for i in range(count): # using range of count to let us know how many times '0' appeared\n",
    "        new_lst.append(0) # append the number of times '0' appeared\n",
    "    return new_lst\n",
    "\n",
    "print(move_zeros([1, 2, 0, 1, 0, 1, 0, 3, 0, 1]))"
   ]
  },
  {
   "cell_type": "code",
   "execution_count": null,
   "metadata": {},
   "outputs": [],
   "source": [
    "def move_zeros(lst):\n",
    "    for i in lst:\n",
    "        if i == 0:\n",
    "            lst.remove(i) # removes element from list\n",
    "            lst.append(i) # appends element to end of list\n",
    "    return lst\n",
    "\n",
    "print(move_zeros([1, 2, 0, 1, 0, 1, 0, 3, 0, 1]))"
   ]
  },
  {
   "attachments": {},
   "cell_type": "markdown",
   "metadata": {},
   "source": [
    "### Sum of Odd Numbers"
   ]
  },
  {
   "cell_type": "code",
   "execution_count": 30,
   "metadata": {},
   "outputs": [
    {
     "name": "stdout",
     "output_type": "stream",
     "text": [
      "2197\n"
     ]
    }
   ],
   "source": [
    "def row_sum_odd_numbers(n):\n",
    "    start = n * (n-1) + 1\n",
    "    total = 0\n",
    "    for i in range(n):\n",
    "        total += start\n",
    "        start += 2\n",
    "    return total\n",
    "\n",
    "print(row_sum_odd_numbers(13))"
   ]
  },
  {
   "cell_type": "code",
   "execution_count": 31,
   "metadata": {},
   "outputs": [
    {
     "name": "stdout",
     "output_type": "stream",
     "text": [
      "2197\n"
     ]
    }
   ],
   "source": [
    "def row_sum_odd_numbers(n):\n",
    "    return n ** 3\n",
    "\n",
    "print(row_sum_odd_numbers(13))"
   ]
  },
  {
   "attachments": {},
   "cell_type": "markdown",
   "metadata": {},
   "source": [
    "### Simple Pig Latin"
   ]
  },
  {
   "cell_type": "code",
   "execution_count": 79,
   "metadata": {},
   "outputs": [
    {
     "data": {
      "text/plain": [
       "'igPay atinlay siay oolcay'"
      ]
     },
     "execution_count": 79,
     "metadata": {},
     "output_type": "execute_result"
    }
   ],
   "source": [
    "def pig_it(text):\n",
    "    new_text = ''\n",
    "    text = text.split(' ')\n",
    "    for word in text:\n",
    "        if word in 'Q,%&?':\n",
    "            new_text += word\n",
    "        else:\n",
    "            new_word = word[1:] + word[0] + 'ay'\n",
    "            new_text = new_text + new_word + ' '\n",
    "    return new_text[:-1]\n",
    "\n",
    "pig_it(\"Pig latin is cool\")"
   ]
  },
  {
   "cell_type": "code",
   "execution_count": 76,
   "metadata": {},
   "outputs": [
    {
     "data": {
      "text/plain": [
       "'igPay atinlay siay oolcay'"
      ]
     },
     "execution_count": 76,
     "metadata": {},
     "output_type": "execute_result"
    }
   ],
   "source": [
    "def pig_it(text):\n",
    "    res = []\n",
    "\n",
    "    for i in text.split():\n",
    "        if i.isalpha():\n",
    "            res.append(i[1:]+i[0]+'ay')\n",
    "        else:\n",
    "            res.append(i)\n",
    "\n",
    "    return \" \".join(res)\n",
    "\n",
    "pig_it(\"Pig latin is cool\")"
   ]
  },
  {
   "attachments": {},
   "cell_type": "markdown",
   "metadata": {},
   "source": [
    "### Detect Pangram"
   ]
  },
  {
   "cell_type": "code",
   "execution_count": 34,
   "metadata": {},
   "outputs": [
    {
     "name": "stdout",
     "output_type": "stream",
     "text": [
      "True\n",
      "False\n"
     ]
    }
   ],
   "source": [
    "def is_pangram(s):\n",
    "    letter_count = []\n",
    "    count = 0\n",
    "    for i in s.lower():\n",
    "        if i in letter_count:\n",
    "            None\n",
    "        elif ord(i) in range(97, 123):\n",
    "            letter_count.append(i)\n",
    "            count += 1\n",
    "    if count == 26:\n",
    "        return True\n",
    "    else: \n",
    "        return False\n",
    "\n",
    "\n",
    "print(is_pangram(\"The quick, brown fox jumps over the lazy dog!\"))\n",
    "print(is_pangram(\"1bcdefghijklmnopqrstuvwxyz\"))"
   ]
  },
  {
   "cell_type": "code",
   "execution_count": 36,
   "metadata": {},
   "outputs": [
    {
     "name": "stdout",
     "output_type": "stream",
     "text": [
      "True\n",
      "False\n"
     ]
    }
   ],
   "source": [
    "def is_pangram(s):\n",
    "    s = s.lower()\n",
    "    for char in 'abcdefghijklmnopqrstuvwxyz':\n",
    "        if char not in s:\n",
    "            return False\n",
    "    return True\n",
    "\n",
    "\n",
    "print(is_pangram(\"The quick, brown fox jumps over the lazy dog!\"))\n",
    "print(is_pangram(\"1bcdefghijklmnopqrstuvwxyz\"))"
   ]
  },
  {
   "attachments": {},
   "cell_type": "markdown",
   "metadata": {},
   "source": [
    "### Find the Next Perfect Square!"
   ]
  },
  {
   "cell_type": "code",
   "execution_count": 42,
   "metadata": {},
   "outputs": [
    {
     "name": "stdout",
     "output_type": "stream",
     "text": [
      "144\n",
      "15241630849\n",
      "-1\n"
     ]
    }
   ],
   "source": [
    "def find_next_square(sq):\n",
    "    for i in range(0, sq):\n",
    "        if i*i == sq:\n",
    "            return (i+1)**2\n",
    "    else:\n",
    "        return -1\n",
    "    \n",
    "\n",
    "print(find_next_square(121))\n",
    "print(find_next_square(15241383936))\n",
    "print(find_next_square(342786627))"
   ]
  },
  {
   "cell_type": "code",
   "execution_count": 45,
   "metadata": {},
   "outputs": [
    {
     "name": "stdout",
     "output_type": "stream",
     "text": [
      "144\n",
      "15241630849\n",
      "-1\n"
     ]
    }
   ],
   "source": [
    "def find_next_square(sq):\n",
    "    root = sq ** 0.5\n",
    "    if root.is_integer():\n",
    "        return int((root + 1)**2)\n",
    "    return -1\n",
    "    \n",
    "\n",
    "print(find_next_square(121))\n",
    "print(find_next_square(15241383936))\n",
    "print(find_next_square(342786627))"
   ]
  },
  {
   "cell_type": "code",
   "execution_count": 43,
   "metadata": {},
   "outputs": [
    {
     "name": "stdout",
     "output_type": "stream",
     "text": [
      "144\n",
      "15241630849\n",
      "-1\n"
     ]
    }
   ],
   "source": [
    "def find_next_square(sq):\n",
    "    import math\n",
    "    if math.sqrt(sq).is_integer():\n",
    "        n = sq + 1\n",
    "        while(math.sqrt(n).is_integer() == False):\n",
    "            n += 1\n",
    "        return n\n",
    "    else:\n",
    "        return -1    \n",
    "\n",
    "print(find_next_square(121))\n",
    "print(find_next_square(15241383936))\n",
    "print(find_next_square(342786627))"
   ]
  },
  {
   "attachments": {},
   "cell_type": "markdown",
   "metadata": {},
   "source": [
    "### You Can't Code Under Pressure #1"
   ]
  },
  {
   "cell_type": "code",
   "execution_count": 49,
   "metadata": {},
   "outputs": [
    {
     "name": "stdout",
     "output_type": "stream",
     "text": [
      "4\n",
      "-20\n"
     ]
    }
   ],
   "source": [
    "def double_integer(i):\n",
    "    return i*2\n",
    "\n",
    "print(double_integer(2))\n",
    "print(double_integer(-10))"
   ]
  },
  {
   "attachments": {},
   "cell_type": "markdown",
   "metadata": {},
   "source": [
    "### Convert a Boolean to a String"
   ]
  },
  {
   "cell_type": "code",
   "execution_count": 51,
   "metadata": {},
   "outputs": [
    {
     "name": "stdout",
     "output_type": "stream",
     "text": [
      "True\n",
      "False\n"
     ]
    }
   ],
   "source": [
    "def boolean_to_string(b):\n",
    "    return str(b)\n",
    "\n",
    "print(boolean_to_string(True))\n",
    "print(boolean_to_string(False))"
   ]
  },
  {
   "attachments": {},
   "cell_type": "markdown",
   "metadata": {},
   "source": [
    "### Tribonacci Sequence"
   ]
  },
  {
   "cell_type": "code",
   "execution_count": 91,
   "metadata": {},
   "outputs": [
    {
     "name": "stdout",
     "output_type": "stream",
     "text": [
      "([1, 1, 1, 3], 4)\n",
      "([1, 0, 0, 1], 4)\n",
      "([3, 2, 1, 6], 4)\n"
     ]
    }
   ],
   "source": [
    "def tribonacci(signature, n):\n",
    "    new_lst = []\n",
    "    count = 0\n",
    "    \n",
    "\n",
    "    for num in signature:\n",
    "        new_lst.append(num)\n",
    "        count += 1\n",
    "\n",
    "    new_num = sum(signature)\n",
    "    new_lst.append(new_num)\n",
    "    count += 1\n",
    "    \n",
    "    while n <= count:\n",
    "        Sum = sum(new_lst[-3:])\n",
    "        new_lst.append(Sum)\n",
    "        count =+ 1\n",
    "        \n",
    "    return new_lst, count\n",
    "\n",
    "\n",
    "print(tribonacci([1, 1, 1], 10))\n",
    "print(tribonacci([1, 0, 0], 10))\n",
    "print(tribonacci([3, 2, 1], 10))"
   ]
  },
  {
   "cell_type": "code",
   "execution_count": 92,
   "metadata": {},
   "outputs": [
    {
     "name": "stdout",
     "output_type": "stream",
     "text": [
      "[1, 1, 1, 3, 5, 9, 17, 31, 57, 105]\n",
      "[1, 0, 0, 1, 1, 2, 4, 7, 13, 24]\n",
      "[3, 2, 1, 6, 9, 16, 31, 56, 103, 190]\n"
     ]
    }
   ],
   "source": [
    "def tribonacci(signature, n):\n",
    "    while len(signature) < n:\n",
    "        signature.append(sum(signature[-3:]))\n",
    "    return signature[:n]\n",
    "\n",
    "print(tribonacci([1, 1, 1], 10))\n",
    "print(tribonacci([1, 0, 0], 10))\n",
    "print(tribonacci([3, 2, 1], 10))"
   ]
  },
  {
   "attachments": {},
   "cell_type": "markdown",
   "metadata": {},
   "source": [
    "### Categorize New Member"
   ]
  },
  {
   "cell_type": "code",
   "execution_count": 22,
   "metadata": {},
   "outputs": [
    {
     "name": "stdout",
     "output_type": "stream",
     "text": [
      "['Open', 'Senior', 'Open', 'Senior']\n",
      "['Open', 'Open', 'Senior', 'Open']\n"
     ]
    }
   ],
   "source": [
    "def open_or_senior(data):\n",
    "    results = []\n",
    "    for param in data:\n",
    "        if param[0] >= 55 and param[1] > 7:\n",
    "            results.append('Senior')\n",
    "        else:\n",
    "            results.append('Open')\n",
    "    return results\n",
    "\n",
    "print(open_or_senior([(45, 12),(55,21),(19, -2),(104, 20)]))\n",
    "print(open_or_senior([(16, 23),(73,1),(56, 20),(1, -1)]))"
   ]
  },
  {
   "attachments": {},
   "cell_type": "markdown",
   "metadata": {},
   "source": [
    "### Does my Number look big in this?"
   ]
  },
  {
   "cell_type": "code",
   "execution_count": 42,
   "metadata": {},
   "outputs": [
    {
     "name": "stdout",
     "output_type": "stream",
     "text": [
      "(True, '371 is narcissistic')\n",
      "(False, '122 is not narcissistic')\n",
      "(False, '4887 is not narcissistic')\n"
     ]
    }
   ],
   "source": [
    "def narcissistic(value):\n",
    "    num_list = []\n",
    "    power = len(str(value))\n",
    "    str_value = str(value)\n",
    "    for i in str_value:\n",
    "        if i not in num_list:\n",
    "            num_list.append(int(i)**power)\n",
    "    if sum(num_list) == value:\n",
    "        return True, f'{value} is narcissistic'\n",
    "    else:\n",
    "        return False, f'{value} is not narcissistic'\n",
    "\n",
    "\n",
    "print(narcissistic(371))\n",
    "print(narcissistic(122))\n",
    "print(narcissistic(4887))"
   ]
  },
  {
   "attachments": {},
   "cell_type": "markdown",
   "metadata": {},
   "source": [
    "### Printer Errors"
   ]
  },
  {
   "cell_type": "code",
   "execution_count": 44,
   "metadata": {},
   "outputs": [
    {
     "name": "stdout",
     "output_type": "stream",
     "text": [
      "3/56\n"
     ]
    }
   ],
   "source": [
    "def printer_error(s):\n",
    "    count = 0\n",
    "    params = 'abcdefghijklm'\n",
    "    for i in s:\n",
    "        if i not in params:\n",
    "            count += 1\n",
    "    return str(count) + '/' + str(len(s))\n",
    "\n",
    "print(printer_error(\"aaaaaaaaaaaaaaaabbbbbbbbbbbbbbbbbbmmmmmmmmmmmmmmmmmmmxyz\"))"
   ]
  },
  {
   "attachments": {},
   "cell_type": "markdown",
   "metadata": {},
   "source": [
    "### Convert number to reversed array of digits"
   ]
  },
  {
   "cell_type": "code",
   "execution_count": 64,
   "metadata": {},
   "outputs": [
    {
     "name": "stdout",
     "output_type": "stream",
     "text": [
      "[1, 3, 2, 5, 3]\n",
      "[7, 5, 3, 2, 8, 5, 3, 2]\n",
      "[0]\n"
     ]
    }
   ],
   "source": [
    "def digitize(n):\n",
    "    n = str(n)\n",
    "    new_num_str = n[::-1]\n",
    "    new_num_list = []\n",
    "    for i in new_num_str:\n",
    "        new_num_list.append(int(i))\n",
    "    return new_num_list\n",
    "\n",
    "print(digitize(35231))\n",
    "print(digitize(23582357))\n",
    "print(digitize(0))"
   ]
  }
 ],
 "metadata": {
  "kernelspec": {
   "display_name": "Python 3.9.7 64-bit",
   "language": "python",
   "name": "python3"
  },
  "language_info": {
   "codemirror_mode": {
    "name": "ipython",
    "version": 3
   },
   "file_extension": ".py",
   "mimetype": "text/x-python",
   "name": "python",
   "nbconvert_exporter": "python",
   "pygments_lexer": "ipython3",
   "version": "3.9.7"
  },
  "orig_nbformat": 4,
  "vscode": {
   "interpreter": {
    "hash": "aee8b7b246df8f9039afb4144a1f6fd8d2ca17a180786b69acc140d282b71a49"
   }
  }
 },
 "nbformat": 4,
 "nbformat_minor": 2
}
